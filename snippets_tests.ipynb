{
 "cells": [
  {
   "cell_type": "code",
   "execution_count": 1,
   "metadata": {},
   "outputs": [],
   "source": [
    "import numpy as np\n",
    "import pandas as pd\n",
    "import datetime"
   ]
  },
  {
   "cell_type": "code",
   "execution_count": null,
   "metadata": {},
   "outputs": [],
   "source": [
    "data =  "
   ]
  },
  {
   "cell_type": "code",
   "execution_count": 3,
   "metadata": {},
   "outputs": [
    {
     "name": "stdout",
     "output_type": "stream",
     "text": [
      "Ratio : 6 : 2\n"
     ]
    }
   ],
   "source": [
    "l = ['a', 'b', 'a', 'a', 'a', 'b', 'a', 'a']\n",
    "\n",
    "a_count = 0\n",
    "b_count = 0 \n",
    "\n",
    "for x in l:\n",
    "    if x == 'a':\n",
    "        a_count += 1\n",
    "    if x == 'b':\n",
    "        b_count +=1\n",
    "\n",
    "print('Ratio :', a_count, ':', b_count)  "
   ]
  },
  {
   "cell_type": "code",
   "execution_count": 4,
   "metadata": {},
   "outputs": [
    {
     "name": "stdout",
     "output_type": "stream",
     "text": [
      "<class 'list'>\n",
      "['a', 'b', 'a', 'a', 'a', 'b', 'a', 'a']\n"
     ]
    }
   ],
   "source": [
    "print(type(l))\n",
    "print(l)"
   ]
  },
  {
   "cell_type": "code",
   "execution_count": 5,
   "metadata": {},
   "outputs": [
    {
     "name": "stdout",
     "output_type": "stream",
     "text": [
      "0    a\n",
      "1    b\n",
      "2    a\n",
      "3    a\n",
      "4    a\n",
      "5    b\n",
      "6    a\n",
      "7    a\n",
      "dtype: object\n"
     ]
    }
   ],
   "source": [
    "lseries = pd.Series(l)\n",
    "print(lseries)"
   ]
  },
  {
   "cell_type": "code",
   "execution_count": 6,
   "metadata": {},
   "outputs": [
    {
     "name": "stdout",
     "output_type": "stream",
     "text": [
      "Ratio : 6 : 2\n"
     ]
    }
   ],
   "source": [
    "a_scount = 0\n",
    "b_scount = 0 \n",
    "\n",
    "for y in lseries:\n",
    "    if y == 'a':\n",
    "        a_scount += 1\n",
    "    if y == 'b':\n",
    "        b_scount +=1\n",
    "\n",
    "print('Ratio :', a_scount, ':', b_scount)  "
   ]
  },
  {
   "cell_type": "code",
   "execution_count": null,
   "metadata": {},
   "outputs": [],
   "source": [
    "\n",
    "def to_pixels(lon, lat):\n",
    "    map = [103.8, 107.8, 2, 5]  # x1,x2,y1,y2\n",
    "    x_diff = lon - map[0]\n",
    "    y_diff = lat - map[2]\n",
    "\n",
    "    xrange = map[1] - map[0]\n",
    "    yrange = map[3] - map[2]\n",
    "\n",
    "    return int(x_diff/xrange * (1749-72) + 72), int(954 - (y_diff/yrange) * (954-26))"
   ]
  },
  {
   "cell_type": "code",
   "execution_count": null,
   "metadata": {},
   "outputs": [],
   "source": [
    "\n",
    "resflight = pd.read_csv('1_3K40.csv')\n",
    "unresflight = pd.read_csv('1_GA41.csv')"
   ]
  },
  {
   "cell_type": "code",
   "execution_count": null,
   "metadata": {},
   "outputs": [],
   "source": [
    "pd.to_timedelta(resflight.loc[0, 'time' ])"
   ]
  },
  {
   "cell_type": "code",
   "execution_count": null,
   "metadata": {},
   "outputs": [],
   "source": [
    "pd.to_timedelta(unresflight.loc[0, 'time' ])"
   ]
  },
  {
   "cell_type": "code",
   "execution_count": null,
   "metadata": {},
   "outputs": [],
   "source": [
    "pd.to_timedelta(resflight.loc[0, 'time' ]) > pd.to_timedelta(unresflight.loc[0, 'time' ])"
   ]
  },
  {
   "cell_type": "code",
   "execution_count": null,
   "metadata": {},
   "outputs": [],
   "source": [
    "if pd.to_datetime(resflight.loc[0, 'time']) > pd.to_datetime(unresflight.loc[0,'time']):\n",
    "        startfirst = unresflight\n",
    "        startsecond = resflight\n",
    "        delta = pd.to_timedelta(startsecond.iloc[0]['time']) - pd.to_timedelta(startfirst.iloc[0]['time'])\n",
    "        delta_str_minutes = int(str(delta)[10:12])\n",
    "        delta_str_seconds = int(str(delta)[13:])\n",
    "        offset = int((delta_str_minutes*60 + delta_str_seconds)/5)\n",
    "else:\n",
    "    startfirst = resflight\n",
    "    startsecond = unresflight\n",
    "    delta = pd.to_timedelta(startsecond.iloc[0]['time']) - pd.to_timedelta(startfirst.iloc[0]['time'])\n",
    "    delta_str_minutes = int(str(delta)[10:12])\n",
    "    delta_str_seconds = int(str(delta)[13:])\n",
    "    offset = int((delta_str_minutes*60 + delta_str_seconds)/5)"
   ]
  },
  {
   "cell_type": "code",
   "execution_count": 2,
   "metadata": {},
   "outputs": [
    {
     "data": {
      "text/html": [
       "<div>\n",
       "<style scoped>\n",
       "    .dataframe tbody tr th:only-of-type {\n",
       "        vertical-align: middle;\n",
       "    }\n",
       "\n",
       "    .dataframe tbody tr th {\n",
       "        vertical-align: top;\n",
       "    }\n",
       "\n",
       "    .dataframe thead th {\n",
       "        text-align: right;\n",
       "    }\n",
       "</style>\n",
       "<table border=\"1\" class=\"dataframe\">\n",
       "  <thead>\n",
       "    <tr style=\"text-align: right;\">\n",
       "      <th></th>\n",
       "      <th>Unnamed: 0</th>\n",
       "      <th>filenames</th>\n",
       "      <th>resolvedflight</th>\n",
       "      <th>initialhead_resolved</th>\n",
       "      <th>initialhead_unresolved</th>\n",
       "      <th>conflict_angle</th>\n",
       "      <th>mantoconflict_dunres</th>\n",
       "      <th>distfrombound_TCP</th>\n",
       "      <th>mantoconflict_dres</th>\n",
       "      <th>tcp_direction</th>\n",
       "      <th>...</th>\n",
       "      <th>mansrtr_res_lat</th>\n",
       "      <th>resflight_CPA_lon</th>\n",
       "      <th>resflight_CPA_lat</th>\n",
       "      <th>unresflight_CPA_lon</th>\n",
       "      <th>unresflight_CPA_lat</th>\n",
       "      <th>maxcrosstrack_lon</th>\n",
       "      <th>maxcrosstrack_lat</th>\n",
       "      <th>mergept_lon</th>\n",
       "      <th>mergept_lat</th>\n",
       "      <th>CPA_orig_maneuvered</th>\n",
       "    </tr>\n",
       "  </thead>\n",
       "  <tbody>\n",
       "    <tr>\n",
       "      <th>0</th>\n",
       "      <td>0</td>\n",
       "      <td>110222set1_1_PR01.csv_1_PR00.csv</td>\n",
       "      <td>110222set1_1_PR01.csv</td>\n",
       "      <td>170</td>\n",
       "      <td>131</td>\n",
       "      <td>37.29</td>\n",
       "      <td>63.793753</td>\n",
       "      <td>31.29</td>\n",
       "      <td>60.042654</td>\n",
       "      <td>1</td>\n",
       "      <td>...</td>\n",
       "      <td>3.89266</td>\n",
       "      <td>106.476</td>\n",
       "      <td>2.88731</td>\n",
       "      <td>106.476</td>\n",
       "      <td>2.88731</td>\n",
       "      <td>106.040</td>\n",
       "      <td>3.61530</td>\n",
       "      <td>106.469</td>\n",
       "      <td>2.91392</td>\n",
       "      <td>8.63</td>\n",
       "    </tr>\n",
       "    <tr>\n",
       "      <th>1</th>\n",
       "      <td>1</td>\n",
       "      <td>110222set1_1_QR11.csv_1_KL10.csv</td>\n",
       "      <td>110222set1_1_QR11.csv</td>\n",
       "      <td>231</td>\n",
       "      <td>131</td>\n",
       "      <td>99.84</td>\n",
       "      <td>31.145624</td>\n",
       "      <td>7.10</td>\n",
       "      <td>35.968539</td>\n",
       "      <td>1</td>\n",
       "      <td>...</td>\n",
       "      <td>4.11465</td>\n",
       "      <td>105.568</td>\n",
       "      <td>3.76394</td>\n",
       "      <td>105.568</td>\n",
       "      <td>3.76394</td>\n",
       "      <td>105.607</td>\n",
       "      <td>3.89207</td>\n",
       "      <td>104.711</td>\n",
       "      <td>3.07267</td>\n",
       "      <td>6.56</td>\n",
       "    </tr>\n",
       "    <tr>\n",
       "      <th>2</th>\n",
       "      <td>2</td>\n",
       "      <td>110222set1_1_PR21.csv_1_PR20.csv</td>\n",
       "      <td>110222set1_1_PR21.csv</td>\n",
       "      <td>170</td>\n",
       "      <td>131</td>\n",
       "      <td>37.29</td>\n",
       "      <td>63.793753</td>\n",
       "      <td>28.30</td>\n",
       "      <td>63.199297</td>\n",
       "      <td>1</td>\n",
       "      <td>...</td>\n",
       "      <td>3.94451</td>\n",
       "      <td>106.470</td>\n",
       "      <td>2.91840</td>\n",
       "      <td>106.470</td>\n",
       "      <td>2.91840</td>\n",
       "      <td>106.065</td>\n",
       "      <td>3.68390</td>\n",
       "      <td>106.465</td>\n",
       "      <td>2.92899</td>\n",
       "      <td>9.49</td>\n",
       "    </tr>\n",
       "  </tbody>\n",
       "</table>\n",
       "<p>3 rows × 33 columns</p>\n",
       "</div>"
      ],
      "text/plain": [
       "   Unnamed: 0                         filenames         resolvedflight  \\\n",
       "0           0  110222set1_1_PR01.csv_1_PR00.csv  110222set1_1_PR01.csv   \n",
       "1           1  110222set1_1_QR11.csv_1_KL10.csv  110222set1_1_QR11.csv   \n",
       "2           2  110222set1_1_PR21.csv_1_PR20.csv  110222set1_1_PR21.csv   \n",
       "\n",
       "   initialhead_resolved  initialhead_unresolved  conflict_angle  \\\n",
       "0                   170                     131           37.29   \n",
       "1                   231                     131           99.84   \n",
       "2                   170                     131           37.29   \n",
       "\n",
       "   mantoconflict_dunres  distfrombound_TCP  mantoconflict_dres  tcp_direction  \\\n",
       "0             63.793753              31.29           60.042654              1   \n",
       "1             31.145624               7.10           35.968539              1   \n",
       "2             63.793753              28.30           63.199297              1   \n",
       "\n",
       "   ...  mansrtr_res_lat  resflight_CPA_lon  resflight_CPA_lat  \\\n",
       "0  ...          3.89266            106.476            2.88731   \n",
       "1  ...          4.11465            105.568            3.76394   \n",
       "2  ...          3.94451            106.470            2.91840   \n",
       "\n",
       "   unresflight_CPA_lon  unresflight_CPA_lat  maxcrosstrack_lon  \\\n",
       "0              106.476              2.88731            106.040   \n",
       "1              105.568              3.76394            105.607   \n",
       "2              106.470              2.91840            106.065   \n",
       "\n",
       "   maxcrosstrack_lat  mergept_lon  mergept_lat CPA_orig_maneuvered  \n",
       "0            3.61530      106.469      2.91392                8.63  \n",
       "1            3.89207      104.711      3.07267                6.56  \n",
       "2            3.68390      106.465      2.92899                9.49  \n",
       "\n",
       "[3 rows x 33 columns]"
      ]
     },
     "execution_count": 2,
     "metadata": {},
     "output_type": "execute_result"
    }
   ],
   "source": [
    "features = pd.read_csv('featurefile_110222set1.csv')\n",
    "features.head()"
   ]
  },
  {
   "cell_type": "code",
   "execution_count": null,
   "metadata": {},
   "outputs": [],
   "source": [
    "features[1]['resolved']"
   ]
  },
  {
   "cell_type": "code",
   "execution_count": null,
   "metadata": {},
   "outputs": [],
   "source": [
    "d = '110222set1_1_PR21.csv'\n",
    "for f in range(len(features)):\n",
    "            if d == features.loc[f, 'resolvedflight']:\n",
    "                maneuv_time = features.loc[f, 'timetoresolution']\n",
    "                print(maneuv_time)\n",
    "                break\n"
   ]
  },
  {
   "cell_type": "code",
   "execution_count": 4,
   "metadata": {},
   "outputs": [],
   "source": [
    "dir_res = 'resolved_initial/'\n",
    "dir_unres = 'unres_initial'\n",
    "dir_pred = 'predicted_trajs/'\n",
    "\n",
    "\n",
    "sorted_resdir = sorted(os.listdir(dir_res), key = lambda x: int(x.split('.')[0][15:]))\n",
    "sorted_unresdir = sorted(os.listdir(dir_unres), key = lambda x: int(x.split('.')[0][15:]))\n",
    "sorted_preddir = sorted(os.listdir(dir_pred),\n",
    "                        key=lambda x: int(x.split('.')[0][15:]))"
   ]
  },
  {
   "cell_type": "code",
   "execution_count": null,
   "metadata": {},
   "outputs": [],
   "source": [
    "# def testdirs(sorted_resdir, sorted_unresdir):\n",
    "n = 10\n",
    "for _d1, _d2, _d3 in zip(sorted_resdir, sorted_unresdir, sorted_preddir):\n",
    "    print(_d1, _d2, _d3)\n",
    "    for i in range(n):\n",
    "        if i >3:\n",
    "            print('yo', i)\n",
    "            break\n",
    "    \n",
    "        \n",
    "\n"
   ]
  },
  {
   "cell_type": "code",
   "execution_count": null,
   "metadata": {},
   "outputs": [],
   "source": [
    "for index,  (_d1, _d2, _d3) in enumerate(zip(sorted_resdir, sorted_unresdir, sorted_preddir)):\n",
    "    print(_d1, _d2, _d3)\n",
    "    print(index)"
   ]
  },
  {
   "cell_type": "code",
   "execution_count": 5,
   "metadata": {},
   "outputs": [
    {
     "data": {
      "text/html": [
       "<div>\n",
       "<style scoped>\n",
       "    .dataframe tbody tr th:only-of-type {\n",
       "        vertical-align: middle;\n",
       "    }\n",
       "\n",
       "    .dataframe tbody tr th {\n",
       "        vertical-align: top;\n",
       "    }\n",
       "\n",
       "    .dataframe thead th {\n",
       "        text-align: right;\n",
       "    }\n",
       "</style>\n",
       "<table border=\"1\" class=\"dataframe\">\n",
       "  <thead>\n",
       "    <tr style=\"text-align: right;\">\n",
       "      <th></th>\n",
       "      <th>Unnamed: 0.1</th>\n",
       "      <th>Unnamed: 0</th>\n",
       "      <th>time</th>\n",
       "      <th>longitude</th>\n",
       "      <th>latitude</th>\n",
       "    </tr>\n",
       "  </thead>\n",
       "  <tbody>\n",
       "    <tr>\n",
       "      <th>0</th>\n",
       "      <td>0</td>\n",
       "      <td>0</td>\n",
       "      <td>14:01:40</td>\n",
       "      <td>106.403</td>\n",
       "      <td>4.57203</td>\n",
       "    </tr>\n",
       "    <tr>\n",
       "      <th>1</th>\n",
       "      <td>1</td>\n",
       "      <td>1</td>\n",
       "      <td>14:01:45</td>\n",
       "      <td>106.397</td>\n",
       "      <td>4.56325</td>\n",
       "    </tr>\n",
       "    <tr>\n",
       "      <th>2</th>\n",
       "      <td>2</td>\n",
       "      <td>2</td>\n",
       "      <td>14:01:50</td>\n",
       "      <td>106.391</td>\n",
       "      <td>4.55448</td>\n",
       "    </tr>\n",
       "    <tr>\n",
       "      <th>3</th>\n",
       "      <td>3</td>\n",
       "      <td>3</td>\n",
       "      <td>14:01:55</td>\n",
       "      <td>106.385</td>\n",
       "      <td>4.54570</td>\n",
       "    </tr>\n",
       "    <tr>\n",
       "      <th>4</th>\n",
       "      <td>4</td>\n",
       "      <td>4</td>\n",
       "      <td>14:02:00</td>\n",
       "      <td>106.379</td>\n",
       "      <td>4.53692</td>\n",
       "    </tr>\n",
       "    <tr>\n",
       "      <th>...</th>\n",
       "      <td>...</td>\n",
       "      <td>...</td>\n",
       "      <td>...</td>\n",
       "      <td>...</td>\n",
       "      <td>...</td>\n",
       "    </tr>\n",
       "    <tr>\n",
       "      <th>200</th>\n",
       "      <td>200</td>\n",
       "      <td>200</td>\n",
       "      <td>14:18:20</td>\n",
       "      <td>106.540</td>\n",
       "      <td>2.54525</td>\n",
       "    </tr>\n",
       "    <tr>\n",
       "      <th>201</th>\n",
       "      <td>201</td>\n",
       "      <td>201</td>\n",
       "      <td>14:18:25</td>\n",
       "      <td>106.542</td>\n",
       "      <td>2.53489</td>\n",
       "    </tr>\n",
       "    <tr>\n",
       "      <th>202</th>\n",
       "      <td>202</td>\n",
       "      <td>202</td>\n",
       "      <td>14:18:30</td>\n",
       "      <td>106.544</td>\n",
       "      <td>2.52452</td>\n",
       "    </tr>\n",
       "    <tr>\n",
       "      <th>203</th>\n",
       "      <td>203</td>\n",
       "      <td>203</td>\n",
       "      <td>14:18:35</td>\n",
       "      <td>106.546</td>\n",
       "      <td>2.51416</td>\n",
       "    </tr>\n",
       "    <tr>\n",
       "      <th>204</th>\n",
       "      <td>204</td>\n",
       "      <td>204</td>\n",
       "      <td>14:18:40</td>\n",
       "      <td>106.548</td>\n",
       "      <td>2.50380</td>\n",
       "    </tr>\n",
       "  </tbody>\n",
       "</table>\n",
       "<p>205 rows × 5 columns</p>\n",
       "</div>"
      ],
      "text/plain": [
       "     Unnamed: 0.1  Unnamed: 0      time  longitude  latitude\n",
       "0               0           0  14:01:40    106.403   4.57203\n",
       "1               1           1  14:01:45    106.397   4.56325\n",
       "2               2           2  14:01:50    106.391   4.55448\n",
       "3               3           3  14:01:55    106.385   4.54570\n",
       "4               4           4  14:02:00    106.379   4.53692\n",
       "..            ...         ...       ...        ...       ...\n",
       "200           200         200  14:18:20    106.540   2.54525\n",
       "201           201         201  14:18:25    106.542   2.53489\n",
       "202           202         202  14:18:30    106.544   2.52452\n",
       "203           203         203  14:18:35    106.546   2.51416\n",
       "204           204         204  14:18:40    106.548   2.50380\n",
       "\n",
       "[205 rows x 5 columns]"
      ]
     },
     "execution_count": 5,
     "metadata": {},
     "output_type": "execute_result"
    }
   ],
   "source": [
    "d1 = '010321set1_1_KL130.csv'\n",
    "dd = pd.read_csv(dir_res + sorted_resdir[0])\n",
    "dd"
   ]
  },
  {
   "cell_type": "code",
   "execution_count": null,
   "metadata": {},
   "outputs": [],
   "source": [
    "a = [1,2,3,4]\n",
    "b = [23,34,45,6]\n",
    "c = [123,124,345,67]"
   ]
  },
  {
   "cell_type": "code",
   "execution_count": null,
   "metadata": {},
   "outputs": [],
   "source": [
    "for  j, k, l in zip(a, b, c):\n",
    "    for i in range(len(a)):\n",
    "        if j ==3:\n",
    "            break\n",
    "        print(i, j, k, l)"
   ]
  },
  {
   "cell_type": "code",
   "execution_count": null,
   "metadata": {},
   "outputs": [],
   "source": [
    "for i in range(len(np.arange(10))):\n",
    "    if i == 5:\n",
    "        pass\n",
    "    print(i)\n"
   ]
  },
  {
   "cell_type": "code",
   "execution_count": null,
   "metadata": {},
   "outputs": [],
   "source": [
    "def add(a, b):\n",
    "    action  = True\n",
    "    print(a+b)\n",
    "    return action"
   ]
  },
  {
   "cell_type": "code",
   "execution_count": null,
   "metadata": {},
   "outputs": [],
   "source": [
    "add(3, 4)"
   ]
  },
  {
   "cell_type": "code",
   "execution_count": null,
   "metadata": {},
   "outputs": [],
   "source": [
    "#trimming the flights\n",
    "dir_res = 'resolved_initial/'\n",
    "dir_unres = 'unres_initial/'\n",
    "dir_pred = 'predicted_trajs/'\n",
    "\n",
    "sorted_resdir = sorted(os.listdir(\n",
    "    dir_res), key=lambda x: int(x.split('.')[0][15:]))\n",
    "sorted_unresdir = sorted(os.listdir(dir_unres),\n",
    "                         key=lambda x: int(x.split('.')[0][15:]))\n",
    "sorted_preddir = sorted(os.listdir(dir_pred),\n",
    "                        key=lambda x: int(x.split('.')[0][15:]))\n",
    "\n",
    "for index,  (_d1, _d2, _d3) in enumerate(zip(sorted_resdir, sorted_unresdir, sorted_preddir)):\n",
    "    resflight = pd.read_csv(dir_res + '{}'.format(_d1))\n",
    "    unresflight = pd.read_csv(dir_unres + '{}'.format(_d2))\n",
    "    pred_res = pd.read_csv(dir_pred + '{}'.format(_d3))\n",
    "    lengthlist  = [len(resflight), len(unresflight), len(pred_res)]\n",
    "    resflight_t = resflight.iloc[:min(lengthlist)]\n",
    "    unresflight_t = unresflight.iloc[:min(lengthlist)]\n",
    "    pred_res_t = pred_res.iloc[:min(lengthlist)]\n",
    "    print('*************')\n",
    " "
   ]
  },
  {
   "cell_type": "code",
   "execution_count": null,
   "metadata": {},
   "outputs": [],
   "source": [
    "len(sorted_resdir)"
   ]
  },
  {
   "cell_type": "code",
   "execution_count": null,
   "metadata": {},
   "outputs": [],
   "source": [
    "df  = pd.read_csv('featurefile_110222set1.csv')\n",
    "df"
   ]
  },
  {
   "cell_type": "code",
   "execution_count": null,
   "metadata": {},
   "outputs": [],
   "source": [
    "a = [df['resolvedflight'], df['conflict_angle']]\n",
    "a[0][1]"
   ]
  },
  {
   "cell_type": "code",
   "execution_count": null,
   "metadata": {},
   "outputs": [],
   "source": [
    "len()"
   ]
  },
  {
   "cell_type": "code",
   "execution_count": 7,
   "metadata": {},
   "outputs": [
    {
     "data": {
      "text/plain": [
       "'PR01'"
      ]
     },
     "execution_count": 7,
     "metadata": {},
     "output_type": "execute_result"
    }
   ],
   "source": [
    "a = '110222set1_1_PR01.csv'\n",
    "a[13:-4]"
   ]
  },
  {
   "cell_type": "code",
   "execution_count": null,
   "metadata": {},
   "outputs": [],
   "source": []
  }
 ],
 "metadata": {
  "interpreter": {
   "hash": "0190871861326b1ea950d98c029edcaa32c0116840e45a4929c0685a3286a2c6"
  },
  "kernelspec": {
   "display_name": "Python 3.10.2 ('pyGame')",
   "language": "python",
   "name": "python3"
  },
  "language_info": {
   "codemirror_mode": {
    "name": "ipython",
    "version": 3
   },
   "file_extension": ".py",
   "mimetype": "text/x-python",
   "name": "python",
   "nbconvert_exporter": "python",
   "pygments_lexer": "ipython3",
   "version": "3.10.2"
  },
  "orig_nbformat": 4
 },
 "nbformat": 4,
 "nbformat_minor": 2
}
