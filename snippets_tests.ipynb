{
 "cells": [
  {
   "cell_type": "code",
   "execution_count": 1,
   "metadata": {},
   "outputs": [],
   "source": [
    "import numpy as np\n",
    "import pandas as pd\n",
    "import datetime"
   ]
  },
  {
   "cell_type": "code",
   "execution_count": null,
   "metadata": {},
   "outputs": [],
   "source": [
    "data =  "
   ]
  },
  {
   "cell_type": "code",
   "execution_count": 3,
   "metadata": {},
   "outputs": [
    {
     "name": "stdout",
     "output_type": "stream",
     "text": [
      "Ratio : 6 : 2\n"
     ]
    }
   ],
   "source": [
    "l = ['a', 'b', 'a', 'a', 'a', 'b', 'a', 'a']\n",
    "\n",
    "a_count = 0\n",
    "b_count = 0 \n",
    "\n",
    "for x in l:\n",
    "    if x == 'a':\n",
    "        a_count += 1\n",
    "    if x == 'b':\n",
    "        b_count +=1\n",
    "\n",
    "print('Ratio :', a_count, ':', b_count)  "
   ]
  },
  {
   "cell_type": "code",
   "execution_count": 4,
   "metadata": {},
   "outputs": [
    {
     "name": "stdout",
     "output_type": "stream",
     "text": [
      "<class 'list'>\n",
      "['a', 'b', 'a', 'a', 'a', 'b', 'a', 'a']\n"
     ]
    }
   ],
   "source": [
    "print(type(l))\n",
    "print(l)"
   ]
  },
  {
   "cell_type": "code",
   "execution_count": 5,
   "metadata": {},
   "outputs": [
    {
     "name": "stdout",
     "output_type": "stream",
     "text": [
      "0    a\n",
      "1    b\n",
      "2    a\n",
      "3    a\n",
      "4    a\n",
      "5    b\n",
      "6    a\n",
      "7    a\n",
      "dtype: object\n"
     ]
    }
   ],
   "source": [
    "lseries = pd.Series(l)\n",
    "print(lseries)"
   ]
  },
  {
   "cell_type": "code",
   "execution_count": 6,
   "metadata": {},
   "outputs": [
    {
     "name": "stdout",
     "output_type": "stream",
     "text": [
      "Ratio : 6 : 2\n"
     ]
    }
   ],
   "source": [
    "a_scount = 0\n",
    "b_scount = 0 \n",
    "\n",
    "for y in lseries:\n",
    "    if y == 'a':\n",
    "        a_scount += 1\n",
    "    if y == 'b':\n",
    "        b_scount +=1\n",
    "\n",
    "print('Ratio :', a_scount, ':', b_scount)  "
   ]
  },
  {
   "cell_type": "code",
   "execution_count": null,
   "metadata": {},
   "outputs": [],
   "source": [
    "\n",
    "def to_pixels(lon, lat):\n",
    "    map = [103.8, 107.8, 2, 5]  # x1,x2,y1,y2\n",
    "    x_diff = lon - map[0]\n",
    "    y_diff = lat - map[2]\n",
    "\n",
    "    xrange = map[1] - map[0]\n",
    "    yrange = map[3] - map[2]\n",
    "\n",
    "    return int(x_diff/xrange * (1749-72) + 72), int(954 - (y_diff/yrange) * (954-26))"
   ]
  },
  {
   "cell_type": "code",
   "execution_count": null,
   "metadata": {},
   "outputs": [],
   "source": [
    "\n",
    "resflight = pd.read_csv('1_3K40.csv')\n",
    "unresflight = pd.read_csv('1_GA41.csv')"
   ]
  },
  {
   "cell_type": "code",
   "execution_count": null,
   "metadata": {},
   "outputs": [],
   "source": [
    "pd.to_timedelta(resflight.loc[0, 'time' ])"
   ]
  },
  {
   "cell_type": "code",
   "execution_count": null,
   "metadata": {},
   "outputs": [],
   "source": [
    "pd.to_timedelta(unresflight.loc[0, 'time' ])"
   ]
  },
  {
   "cell_type": "code",
   "execution_count": null,
   "metadata": {},
   "outputs": [],
   "source": [
    "pd.to_timedelta(resflight.loc[0, 'time' ]) > pd.to_timedelta(unresflight.loc[0, 'time' ])"
   ]
  },
  {
   "cell_type": "code",
   "execution_count": null,
   "metadata": {},
   "outputs": [],
   "source": [
    "if pd.to_datetime(resflight.loc[0, 'time']) > pd.to_datetime(unresflight.loc[0,'time']):\n",
    "        startfirst = unresflight\n",
    "        startsecond = resflight\n",
    "        delta = pd.to_timedelta(startsecond.iloc[0]['time']) - pd.to_timedelta(startfirst.iloc[0]['time'])\n",
    "        delta_str_minutes = int(str(delta)[10:12])\n",
    "        delta_str_seconds = int(str(delta)[13:])\n",
    "        offset = int((delta_str_minutes*60 + delta_str_seconds)/5)\n",
    "else:\n",
    "    startfirst = resflight\n",
    "    startsecond = unresflight\n",
    "    delta = pd.to_timedelta(startsecond.iloc[0]['time']) - pd.to_timedelta(startfirst.iloc[0]['time'])\n",
    "    delta_str_minutes = int(str(delta)[10:12])\n",
    "    delta_str_seconds = int(str(delta)[13:])\n",
    "    offset = int((delta_str_minutes*60 + delta_str_seconds)/5)"
   ]
  },
  {
   "cell_type": "code",
   "execution_count": null,
   "metadata": {},
   "outputs": [],
   "source": [
    "features = pd.read_csv('featurefile_110222set1.csv')\n",
    "features.head()"
   ]
  },
  {
   "cell_type": "code",
   "execution_count": null,
   "metadata": {},
   "outputs": [],
   "source": [
    "features.columns"
   ]
  },
  {
   "cell_type": "code",
   "execution_count": null,
   "metadata": {},
   "outputs": [],
   "source": [
    "d = '110222set1_1_PR21.csv'\n",
    "for f in range(len(features)):\n",
    "            if d == features.loc[f, 'resolvedflight']:\n",
    "                maneuv_time = features.loc[f, 'timetoresolution']\n",
    "                print(maneuv_time)\n",
    "                break\n"
   ]
  },
  {
   "cell_type": "code",
   "execution_count": null,
   "metadata": {},
   "outputs": [],
   "source": [
    "dir_res = 'resolved_initial/'\n",
    "dir_unres = 'unres_initial'\n",
    "dir_pred = 'predicted_trajs/'\n",
    "\n",
    "\n",
    "sorted_resdir = sorted(os.listdir(dir_res), key = lambda x: int(x.split('.')[0][15:]))\n",
    "sorted_unresdir = sorted(os.listdir(dir_unres), key = lambda x: int(x.split('.')[0][15:]))\n",
    "sorted_preddir = sorted(os.listdir(dir_pred),\n",
    "                        key=lambda x: int(x.split('.')[0][15:]))"
   ]
  },
  {
   "cell_type": "code",
   "execution_count": null,
   "metadata": {},
   "outputs": [],
   "source": [
    "# def testdirs(sorted_resdir, sorted_unresdir):\n",
    "n = 10\n",
    "for _d1, _d2, _d3 in zip(sorted_resdir, sorted_unresdir, sorted_preddir):\n",
    "    print(_d1, _d2, _d3)\n",
    "    for i in range(n):\n",
    "        if i >3:\n",
    "            print('yo', i)\n",
    "            break\n",
    "    \n",
    "        \n",
    "\n"
   ]
  },
  {
   "cell_type": "code",
   "execution_count": null,
   "metadata": {},
   "outputs": [],
   "source": [
    "for index,  (_d1, _d2, _d3) in enumerate(zip(sorted_resdir, sorted_unresdir, sorted_preddir)):\n",
    "    print(_d1, _d2, _d3)\n",
    "    print(index)"
   ]
  },
  {
   "cell_type": "code",
   "execution_count": null,
   "metadata": {},
   "outputs": [],
   "source": [
    "d1 = '010321set1_1_KL130.csv'\n",
    "dd = pd.read_csv(dir_res + sorted_resdir[0])\n",
    "dd"
   ]
  },
  {
   "cell_type": "code",
   "execution_count": null,
   "metadata": {},
   "outputs": [],
   "source": [
    "a = [1,2,3,4]\n",
    "b = [23,34,45,6]\n",
    "c = [123,124,345,67]"
   ]
  },
  {
   "cell_type": "code",
   "execution_count": null,
   "metadata": {},
   "outputs": [],
   "source": [
    "for  j, k, l in zip(a, b, c):\n",
    "    for i in range(len(a)):\n",
    "        if j ==3:\n",
    "            break\n",
    "        print(i, j, k, l)"
   ]
  },
  {
   "cell_type": "code",
   "execution_count": null,
   "metadata": {},
   "outputs": [],
   "source": [
    "for i in range(len(np.arange(10))):\n",
    "    if i == 5:\n",
    "        pass\n",
    "    print(i)\n"
   ]
  },
  {
   "cell_type": "code",
   "execution_count": null,
   "metadata": {},
   "outputs": [],
   "source": [
    "def add(a, b):\n",
    "    action  = True\n",
    "    print(a+b)\n",
    "    return action"
   ]
  },
  {
   "cell_type": "code",
   "execution_count": null,
   "metadata": {},
   "outputs": [],
   "source": [
    "add(3, 4)"
   ]
  },
  {
   "cell_type": "code",
   "execution_count": null,
   "metadata": {},
   "outputs": [],
   "source": [
    "#trimming the flights\n",
    "dir_res = 'resolved_initial/'\n",
    "dir_unres = 'unres_initial/'\n",
    "dir_pred = 'predicted_trajs/'\n",
    "\n",
    "sorted_resdir = sorted(os.listdir(\n",
    "    dir_res), key=lambda x: int(x.split('.')[0][15:]))\n",
    "sorted_unresdir = sorted(os.listdir(dir_unres),\n",
    "                         key=lambda x: int(x.split('.')[0][15:]))\n",
    "sorted_preddir = sorted(os.listdir(dir_pred),\n",
    "                        key=lambda x: int(x.split('.')[0][15:]))\n",
    "\n",
    "for index,  (_d1, _d2, _d3) in enumerate(zip(sorted_resdir, sorted_unresdir, sorted_preddir)):\n",
    "    resflight = pd.read_csv(dir_res + '{}'.format(_d1))\n",
    "    unresflight = pd.read_csv(dir_unres + '{}'.format(_d2))\n",
    "    pred_res = pd.read_csv(dir_pred + '{}'.format(_d3))\n",
    "    lengthlist  = [len(resflight), len(unresflight), len(pred_res)]\n",
    "    resflight_t = resflight.iloc[:min(lengthlist)]\n",
    "    unresflight_t = unresflight.iloc[:min(lengthlist)]\n",
    "    pred_res_t = pred_res.iloc[:min(lengthlist)]\n",
    "    print('*************')\n",
    " "
   ]
  },
  {
   "cell_type": "code",
   "execution_count": null,
   "metadata": {},
   "outputs": [],
   "source": [
    "len(sorted_resdir)"
   ]
  },
  {
   "cell_type": "code",
   "execution_count": null,
   "metadata": {},
   "outputs": [],
   "source": [
    "df  = pd.read_csv('featurefile_110222set1.csv')\n",
    "df"
   ]
  },
  {
   "cell_type": "code",
   "execution_count": null,
   "metadata": {},
   "outputs": [],
   "source": [
    "a = [df['resolvedflight'], df['conflict_angle']]\n",
    "a[0][1]"
   ]
  },
  {
   "cell_type": "code",
   "execution_count": null,
   "metadata": {},
   "outputs": [],
   "source": [
    "len()"
   ]
  },
  {
   "cell_type": "code",
   "execution_count": null,
   "metadata": {},
   "outputs": [],
   "source": []
  }
 ],
 "metadata": {
  "interpreter": {
   "hash": "0190871861326b1ea950d98c029edcaa32c0116840e45a4929c0685a3286a2c6"
  },
  "kernelspec": {
   "display_name": "Python 3.10.2 ('pyGame')",
   "language": "python",
   "name": "python3"
  },
  "language_info": {
   "codemirror_mode": {
    "name": "ipython",
    "version": 3
   },
   "file_extension": ".py",
   "mimetype": "text/x-python",
   "name": "python",
   "nbconvert_exporter": "python",
   "pygments_lexer": "ipython3",
   "version": "3.10.2"
  },
  "orig_nbformat": 4
 },
 "nbformat": 4,
 "nbformat_minor": 2
}
